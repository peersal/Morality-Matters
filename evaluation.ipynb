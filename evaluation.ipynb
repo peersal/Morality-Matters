{
 "cells": [
  {
   "cell_type": "markdown",
   "id": "c24af16a-ebdd-4c57-a0e8-a326218d9564",
   "metadata": {
    "tags": []
   },
   "source": [
    "### In this notebook we evaluate our findings"
   ]
  },
  {
   "cell_type": "code",
   "execution_count": 2,
   "id": "39c5b3ba-c5c8-4f01-b418-cf3629ae0aed",
   "metadata": {
    "tags": []
   },
   "outputs": [],
   "source": [
    "import pandas as pd"
   ]
  },
  {
   "cell_type": "code",
   "execution_count": 3,
   "id": "daa7f8c9-7d41-41cf-a4d6-640c7b9e6c32",
   "metadata": {
    "tags": []
   },
   "outputs": [],
   "source": [
    "# just a sample example\n",
    "df = pd.read_csv(\"data/results_test.csv\")\n",
    "df = df.drop('Unnamed: 0', axis=1)"
   ]
  },
  {
   "cell_type": "markdown",
   "id": "2ec0ddf0-3a61-4dc6-9603-2695f1b2b632",
   "metadata": {},
   "source": [
    "#### Summ up total labels and ratios"
   ]
  },
  {
   "cell_type": "code",
   "execution_count": 4,
   "id": "e1baef75-cb56-4197-990d-645fcdf3ce88",
   "metadata": {
    "tags": []
   },
   "outputs": [],
   "source": [
    "def summ_up_label(df, cols):\n",
    "    acts = []\n",
    "    dont_acts = []\n",
    "    ns = []\n",
    "    for key, row in df.iterrows(): \n",
    "        n = 0\n",
    "        act = 0\n",
    "        dont_act = 0\n",
    "        for i in cols:\n",
    "            if row[i] == 0:\n",
    "                dont_act += 1\n",
    "            if row[i] == 1:\n",
    "                act += 1\n",
    "            n += 1\n",
    "                \n",
    "                \n",
    "        acts.append(act)\n",
    "        dont_acts.append(dont_act)\n",
    "        ns.append(n)\n",
    "        \n",
    "    return acts, dont_acts, ns\n",
    "        \n",
    "               "
   ]
  },
  {
   "cell_type": "markdown",
   "id": "37548f5c-3167-4a85-8460-ea7fb3e60f64",
   "metadata": {},
   "source": [
    "#### apply"
   ]
  },
  {
   "cell_type": "code",
   "execution_count": 5,
   "id": "d8d7e3d0-28be-4022-a600-72ede6484fc7",
   "metadata": {
    "tags": []
   },
   "outputs": [],
   "source": [
    "label_cols = [i for i in df.keys().tolist() if \"label\" in i]\n",
    "labels_act, labels_dont_act, runns = summ_up_label(df, label_cols)\n",
    "ratio_act = [labels_act[i]/runns[i] for i in range(len(labels_act))]\n",
    "ratio_dont_act = [labels_dont_act[i]/runns[i] for i in range(len(labels_dont_act))]\n",
    "df[\"Act\"] = labels_act\n",
    "df[\"Dont Act\"] = labels_dont_act\n",
    "df[\"n\"] = runns\n",
    "df [\"Act Ratio\"] = ratio_act\n",
    "df [\"Dont Act Ratio\"] = ratio_dont_act"
   ]
  },
  {
   "cell_type": "code",
   "execution_count": 6,
   "id": "ee034d96-0b07-42e3-81b1-ae1e5da67363",
   "metadata": {
    "tags": []
   },
   "outputs": [],
   "source": [
    "df.to_csv(\"data/results_test.csv\", index = False)"
   ]
  },
  {
   "cell_type": "markdown",
   "id": "4d58cfbc-d7d9-454a-a511-180c269e4f9f",
   "metadata": {
    "tags": []
   },
   "source": [
    "#### TODO plot results"
   ]
  },
  {
   "cell_type": "markdown",
   "id": "9fe7cc06-31e9-4abb-986b-88c49bbf3a97",
   "metadata": {},
   "source": [
    "#### TODO apply to all llM results"
   ]
  },
  {
   "cell_type": "markdown",
   "id": "0719de00-9586-4cb5-a398-e12be1b269ad",
   "metadata": {},
   "source": [
    "#### TODO: Find tests for our Hypotheses -> correlation to survey/consistency"
   ]
  },
  {
   "cell_type": "markdown",
   "id": "40c3b586-35df-465c-adfd-7472854641dc",
   "metadata": {},
   "source": [
    "#### TODO apply to all variations results"
   ]
  },
  {
   "cell_type": "markdown",
   "id": "744216b8-aa6d-426f-b6d8-a714ba2a00d5",
   "metadata": {},
   "source": [
    "#### TODO: Find tests for our Hypotheses -> correlation to survey/consistency"
   ]
  },
  {
   "cell_type": "markdown",
   "id": "9e8374d0-eee2-406b-8142-409cdeab69c6",
   "metadata": {},
   "source": [
    "#### TODO Moral Framework analysis"
   ]
  }
 ],
 "metadata": {
  "kernelspec": {
   "display_name": "Python 3 (ipykernel)",
   "language": "python",
   "name": "python3"
  },
  "language_info": {
   "codemirror_mode": {
    "name": "ipython",
    "version": 3
   },
   "file_extension": ".py",
   "mimetype": "text/x-python",
   "name": "python",
   "nbconvert_exporter": "python",
   "pygments_lexer": "ipython3",
   "version": "3.10.9"
  }
 },
 "nbformat": 4,
 "nbformat_minor": 5
}
